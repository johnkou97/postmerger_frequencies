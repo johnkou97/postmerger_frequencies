{
 "cells": [
  {
   "cell_type": "code",
   "execution_count": 2,
   "metadata": {},
   "outputs": [],
   "source": [
    "import h5py\n",
    "import numpy as np\n",
    "import math\n",
    "import scipy\n",
    "from scipy import signal\n",
    "import matplotlib.pyplot as plt\n",
    "from scipy.interpolate import CubicSpline as spline\n",
    "from scipy.fftpack import fft, fftshift ,ifft,rfft,fftfreq,rfftfreq\n",
    "c=2.9979e10\n",
    "G=6.67408e-8\n",
    "Msun=1.989e33\n",
    "Length = G*Msun/c**2\n",
    "Time = Length/c\n",
    "Frequency=1/Time"
   ]
  },
  {
   "cell_type": "code",
   "execution_count": 3,
   "metadata": {},
   "outputs": [],
   "source": [
    "m_r1=np.load('tid_def/SLy.npy')\n",
    "m_r2=np.load('tid_def/H4.npy')\n",
    "m_r3=np.load('tid_def/MS1.npy')\n",
    "m_r4=np.load('tid_def/MPA1.npy')\n",
    "m_r5=np.load('tid_def/ALF2.npy')\n",
    "m_r6=np.load('tid_def/MS1b.npy')\n",
    "m_r7=np.load('tid_def/ENG.npy')\n",
    "m_r8=np.load('tid_def/2H.npy')\n"
   ]
  },
  {
   "cell_type": "code",
   "execution_count": 4,
   "metadata": {},
   "outputs": [],
   "source": [
    "\n",
    "SLy=1\n",
    "H4=2\n",
    "MS1=3\n",
    "MPA1=4\n",
    "ALF2=5\n",
    "MS1b=6\n",
    "ms1b=6\n",
    "ENG=7\n"
   ]
  },
  {
   "cell_type": "code",
   "execution_count": 5,
   "metadata": {},
   "outputs": [],
   "source": [
    "q2 = np.zeros(31)\n",
    "mas2=np.zeros(31)\n",
    "eos=np.zeros(31)\n",
    "\n",
    "\n",
    "i=0\n",
    "for m in range(0,2):\n",
    "    for k in range(0,10):\n",
    "        for j in range(0,10):\n",
    "            name = 'metadata/BAM:0%s%s%s.txt' %(m,k,j)\n",
    "            try:\n",
    "                f=open(name)\n",
    "                lines=f.readlines() \n",
    "                exec(lines[10])\n",
    "                q2[i] = id_mass_ratio\n",
    "                exec(lines[8])\n",
    "                mas2[i]=id_mass\n",
    "                if i==0:\n",
    "                    eos[i]=8 #by hand because 2H can not be given a value\n",
    "                if i>0:\n",
    "                    exec(lines[15])\n",
    "                    eos[i]=id_eos\n",
    "                \n",
    "                i=i+1\n",
    "            except OSError:\n",
    "                pass\n",
    "\n"
   ]
  },
  {
   "cell_type": "code",
   "execution_count": 6,
   "metadata": {},
   "outputs": [],
   "source": [
    "index=[]\n",
    "j=0\n",
    "for i in range(len(q2)):\n",
    "    if q2[i]==1:\n",
    "        index.insert(j,i)\n",
    "        j=j+1\n",
    "\n"
   ]
  },
  {
   "cell_type": "code",
   "execution_count": 7,
   "metadata": {},
   "outputs": [],
   "source": [
    "mx=np.amax(m_r1[0])\n",
    "idx=np.where(m_r1[0]==mx)\n",
    "idx=idx[0][0]\n",
    "#cs1=spline(m_r1[0][1:idx],k_l1[0][1:idx])\n",
    "cs11=spline(m_r1[0][1:idx],m_r1[1][1:idx])\n",
    "\n",
    "mx=np.amax(m_r2[0])\n",
    "idx=np.where(m_r2[0]==mx)\n",
    "idx=idx[0][0]\n",
    "#cs2=spline(m_r2[0][1:idx],k_l2[0][1:idx])\n",
    "cs21=spline(m_r2[0][1:idx],m_r2[1][1:idx])\n",
    "\n",
    "mx=np.amax(m_r3[0])\n",
    "idx=np.where(m_r3[0]==mx)\n",
    "idx=idx[0][0]\n",
    "#cs3=spline(m_r3[0][1:idx],k_l3[0][1:idx])\n",
    "cs31=spline(m_r3[0][1:idx],m_r3[1][1:idx])\n",
    "\n",
    "mx=np.amax(m_r4[0])\n",
    "idx=np.where(m_r4[0]==mx)\n",
    "idx=idx[0][0]\n",
    "#cs4=spline(m_r4[0][1:idx],k_l4[0][1:idx])\n",
    "cs41=spline(m_r4[0][1:idx],m_r4[1][1:idx])\n",
    "\n",
    "mx=np.amax(m_r5[0])\n",
    "idx=np.where(m_r5[0]==mx)\n",
    "idx=idx[0][0]\n",
    "#cs5=spline(m_r5[0][1:idx],k_l5[0][1:idx])\n",
    "cs51=spline(m_r5[0][1:idx],m_r5[1][1:idx])\n",
    "\n",
    "mx=np.amax(m_r6[0])\n",
    "idx=np.where(m_r6[0]==mx)\n",
    "idx=idx[0][0]\n",
    "#cs6=spline(m_r6[0][1:idx],k_l6[0][1:idx])\n",
    "cs61=spline(m_r6[0][1:idx],m_r6[1][1:idx])\n",
    "\n",
    "mx=np.amax(m_r7[0])\n",
    "idx=np.where(m_r7[0]==mx)\n",
    "idx=idx[0][0]\n",
    "#cs7=spline(m_r7[0][1:idx],k_l7[0][1:idx])\n",
    "cs71=spline(m_r7[0][1:idx],m_r7[1][1:idx])\n",
    "\n",
    "mx=np.amax(m_r8[0])\n",
    "idx=np.where(m_r8[0]==mx)\n",
    "idx=idx[0][0]\n",
    "#cs8=spline(m_r8[0][1:idx],k_l8[0][1:idx])\n",
    "cs81=spline(m_r8[0][1:idx],m_r8[1][1:idx])"
   ]
  },
  {
   "cell_type": "code",
   "execution_count": 55,
   "metadata": {},
   "outputs": [],
   "source": [
    "r=np.zeros(len(index))\n",
    "j=0\n",
    "for i in index:\n",
    "    if eos[i]==1:\n",
    "        r[j]=cs11(mas2[i]/2)*Length/1.0e5\n",
    "        \n",
    "        j=j+1\n",
    "    elif eos[i]==2:\n",
    "        r[j]=cs21(mas2[i]/2)*Length/1.0e5\n",
    "        j=j+1\n",
    "    elif eos[i]==3:\n",
    "        r[j]=cs31(mas2[i]/2)*Length/1.0e5\n",
    "        \n",
    "        j=j+1\n",
    "    elif eos[i]==4:\n",
    "        r[j]=cs41(mas2[i]/2)*Length/1.0e5\n",
    "        \n",
    "        j=j+1\n",
    "    elif eos[i]==5:\n",
    "        r[j]=cs51(mas2[i]/2)*Length/1.0e5\n",
    "        \n",
    "        j=j+1\n",
    "    elif eos[i]==6:\n",
    "        r[j]=cs61(mas2[i]/2)*Length/1.0e5\n",
    "        \n",
    "        j=j+1\n",
    "    elif eos[i]==7:\n",
    "        r[j]=cs71(mas2[i]/2)*Length/1.0e5\n",
    "        \n",
    "        j=j+1\n",
    "    elif eos[i]==8:\n",
    "        r[j]=cs81(mas2[i]/2)*Length/1.0e5\n",
    "        \n",
    "        j=j+1\n",
    "    "
   ]
  },
  {
   "cell_type": "code",
   "execution_count": 86,
   "metadata": {},
   "outputs": [
    {
     "data": {
      "text/plain": [
       "Text(0,0.5,'Mass (solar masses)')"
      ]
     },
     "execution_count": 86,
     "metadata": {},
     "output_type": "execute_result"
    },
    {
     "data": {
      "image/png": "[encoded data removed]",
      "text/plain": [
       "<Figure size 432x288 with 1 Axes>"
      ]
     },
     "metadata": {
      "needs_background": "light"
     },
     "output_type": "display_data"
    }
   ],
   "source": [
    "plt.plot(m_r1[1]*Length/1.0e5,m_r1[0],color='black')\n",
    "plt.plot(m_r2[1]*Length/1.0e5,m_r2[0],color='black')\n",
    "plt.plot(m_r3[1]*Length/1.0e5,m_r3[0],color='black')\n",
    "plt.plot(m_r4[1]*Length/1.0e5,m_r4[0],color='black')\n",
    "plt.plot(m_r5[1]*Length/1.0e5,m_r5[0],color='black')\n",
    "plt.plot(m_r6[1]*Length/1.0e5,m_r6[0],color='black')\n",
    "plt.plot(m_r7[1]*Length/1.0e5,m_r7[0],color='black')\n",
    "plt.plot(m_r8[1]*Length/1.0e5,m_r8[0],color='black')\n",
    "plt.xlim(11,16)\n",
    "plt.ylim(1,2)\n",
    "for i in range(len(index)):\n",
    "    plt.scatter(r[i],mas2[index[i]]/2,color='r')\n",
    "    \n",
    "\n",
    "plt.xlabel('Radius (km)')\n",
    "plt.ylabel('Mass (solar masses)')"
   ]
  },
  {
   "cell_type": "code",
   "execution_count": 102,
   "metadata": {},
   "outputs": [
    {
     "name": "stdout",
     "output_type": "stream",
     "text": [
      " q    eos   Mass  Radius\n",
      "1.0 | 8.0 | 2.7 | 15.8\n",
      "1.0 | 5.0 | 2.7 | 12.7\n",
      "1.0 | 5.0 | 2.7 | 12.7\n",
      "1.0 | 7.0 | 2.7 | 12.0\n",
      "1.0 | 2.0 | 2.7 | 14.0\n",
      "1.0 | 2.0 | 2.7 | 14.0\n",
      "1.0 | 4.0 | 2.7 | 12.4\n",
      "1.0 | 3.0 | 2.7 | 14.9\n",
      "1.0 | 6.0 | 2.7 | 14.5\n",
      "1.0 | 6.0 | 2.8 | 14.5\n",
      "1.0 | 6.0 | 3.2 | 14.6\n",
      "1.0 | 6.0 | 3.4 | 14.6\n",
      "1.0 | 1.0 | 2.7 | 11.7\n"
     ]
    }
   ],
   "source": [
    "j=0\n",
    "print(' q    eos   Mass  Radius')\n",
    "for i in range(mas2.size):\n",
    "    \n",
    "    if q2[i]==1:\n",
    "        print(q2[i],'|',eos[i],'|','%.1f' %mas2[i],'|','%.1f' %r[j])\n",
    "        j=j+1"
   ]
  },
  {
   "cell_type": "code",
   "execution_count": null,
   "metadata": {},
   "outputs": [],
   "source": []
  }
 ],
 "metadata": {
  "kernelspec": {
   "display_name": "Python 3",
   "language": "python",
   "name": "python3"
  },
  "language_info": {
   "codemirror_mode": {
    "name": "ipython",
    "version": 3
   },
   "file_extension": ".py",
   "mimetype": "text/x-python",
   "name": "python",
   "nbconvert_exporter": "python",
   "pygments_lexer": "ipython3",
   "version": "3.7.6"
  }
 },
 "nbformat": 4,
 "nbformat_minor": 4
}
