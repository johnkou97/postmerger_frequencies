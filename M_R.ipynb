{
 "cells": [
  {
   "cell_type": "code",
   "execution_count": 1,
   "metadata": {},
   "outputs": [],
   "source": [
    "import h5py\n",
    "import numpy as np\n",
    "import math\n",
    "import scipy\n",
    "from scipy import signal\n",
    "import matplotlib.pyplot as plt\n",
    "from scipy.interpolate import CubicSpline as spline\n",
    "from scipy.fftpack import fft, fftshift ,ifft,rfft,fftfreq,rfftfreq\n",
    "c=2.9979e10\n",
    "G=6.67408e-8\n",
    "Msun=1.989e33\n",
    "Length = G*Msun/c**2\n",
    "Time = Length/c\n",
    "Frequency=1/Time"
   ]
  },
  {
   "cell_type": "code",
   "execution_count": 2,
   "metadata": {},
   "outputs": [],
   "source": [
    "m_r1=np.load('tid_def/SLy.npy')\n",
    "m_r2=np.load('tid_def/H4.npy')\n",
    "m_r3=np.load('tid_def/MS1.npy')\n",
    "m_r4=np.load('tid_def/MPA1.npy')\n",
    "m_r5=np.load('tid_def/ALF2.npy')\n",
    "m_r6=np.load('tid_def/MS1b.npy')\n",
    "m_r7=np.load('tid_def/ENG.npy')\n",
    "m_r8=np.load('tid_def/2H.npy')\n"
   ]
  },
  {
   "cell_type": "markdown",
   "metadata": {},
   "source": [
    "Read metadata"
   ]
  },
  {
   "cell_type": "code",
   "execution_count": 3,
   "metadata": {},
   "outputs": [],
   "source": [
    "\n",
    "SLy=1\n",
    "H4=2\n",
    "MS1=3\n",
    "MPA1=4\n",
    "ALF2=5\n",
    "MS1b=6\n",
    "ms1b=6\n",
    "ENG=7\n"
   ]
  },
  {
   "cell_type": "code",
   "execution_count": 4,
   "metadata": {},
   "outputs": [],
   "source": [
    "q2 = np.zeros(31)\n",
    "mas2=np.zeros(31)\n",
    "eos=np.zeros(31)\n",
    "\n",
    "\n",
    "i=0\n",
    "for m in range(0,2):\n",
    "    for k in range(0,10):\n",
    "        for j in range(0,10):\n",
    "            name = 'metadata/BAM:0%s%s%s.txt' %(m,k,j)\n",
    "            try:\n",
    "                f=open(name)\n",
    "                lines=f.readlines() \n",
    "                exec(lines[10])\n",
    "                q2[i] = id_mass_ratio\n",
    "                exec(lines[8])\n",
    "                mas2[i]=id_mass\n",
    "                if i==0:\n",
    "                    eos[i]=8 #by hand because 2H can not be given a value\n",
    "                if i>0:\n",
    "                    exec(lines[15])\n",
    "                    eos[i]=id_eos\n",
    "                \n",
    "                i=i+1\n",
    "            except OSError:\n",
    "                pass\n",
    "\n"
   ]
  },
  {
   "cell_type": "markdown",
   "metadata": {},
   "source": [
    "Isolate $q=1$ cases"
   ]
  },
  {
   "cell_type": "code",
   "execution_count": 5,
   "metadata": {},
   "outputs": [],
   "source": [
    "index=[]\n",
    "j=0\n",
    "for i in range(len(q2)):\n",
    "    if q2[i]==1:\n",
    "        index.insert(j,i)\n",
    "        j=j+1\n",
    "\n"
   ]
  },
  {
   "cell_type": "markdown",
   "metadata": {},
   "source": [
    "Calculate radius for $\\frac{M_{total}}{2}$ for each binary for its' EOS"
   ]
  },
  {
   "cell_type": "code",
   "execution_count": 6,
   "metadata": {},
   "outputs": [],
   "source": [
    "mx=np.amax(m_r1[0])\n",
    "idx=np.where(m_r1[0]==mx)\n",
    "idx=idx[0][0]\n",
    "#cs1=spline(m_r1[0][1:idx],k_l1[0][1:idx])\n",
    "cs11=spline(m_r1[0][1:idx],m_r1[1][1:idx])\n",
    "\n",
    "mx=np.amax(m_r2[0])\n",
    "idx=np.where(m_r2[0]==mx)\n",
    "idx=idx[0][0]\n",
    "#cs2=spline(m_r2[0][1:idx],k_l2[0][1:idx])\n",
    "cs21=spline(m_r2[0][1:idx],m_r2[1][1:idx])\n",
    "\n",
    "mx=np.amax(m_r3[0])\n",
    "idx=np.where(m_r3[0]==mx)\n",
    "idx=idx[0][0]\n",
    "#cs3=spline(m_r3[0][1:idx],k_l3[0][1:idx])\n",
    "cs31=spline(m_r3[0][1:idx],m_r3[1][1:idx])\n",
    "\n",
    "mx=np.amax(m_r4[0])\n",
    "idx=np.where(m_r4[0]==mx)\n",
    "idx=idx[0][0]\n",
    "#cs4=spline(m_r4[0][1:idx],k_l4[0][1:idx])\n",
    "cs41=spline(m_r4[0][1:idx],m_r4[1][1:idx])\n",
    "\n",
    "mx=np.amax(m_r5[0])\n",
    "idx=np.where(m_r5[0]==mx)\n",
    "idx=idx[0][0]\n",
    "#cs5=spline(m_r5[0][1:idx],k_l5[0][1:idx])\n",
    "cs51=spline(m_r5[0][1:idx],m_r5[1][1:idx])\n",
    "\n",
    "mx=np.amax(m_r6[0])\n",
    "idx=np.where(m_r6[0]==mx)\n",
    "idx=idx[0][0]\n",
    "#cs6=spline(m_r6[0][1:idx],k_l6[0][1:idx])\n",
    "cs61=spline(m_r6[0][1:idx],m_r6[1][1:idx])\n",
    "\n",
    "mx=np.amax(m_r7[0])\n",
    "idx=np.where(m_r7[0]==mx)\n",
    "idx=idx[0][0]\n",
    "#cs7=spline(m_r7[0][1:idx],k_l7[0][1:idx])\n",
    "cs71=spline(m_r7[0][1:idx],m_r7[1][1:idx])\n",
    "\n",
    "mx=np.amax(m_r8[0])\n",
    "idx=np.where(m_r8[0]==mx)\n",
    "idx=idx[0][0]\n",
    "#cs8=spline(m_r8[0][1:idx],k_l8[0][1:idx])\n",
    "cs81=spline(m_r8[0][1:idx],m_r8[1][1:idx])"
   ]
  },
  {
   "cell_type": "code",
   "execution_count": 7,
   "metadata": {},
   "outputs": [],
   "source": [
    "r=np.zeros(31)\n",
    "for i in range(31):\n",
    "    if eos[i]==1:\n",
    "        r[i]=cs11(mas2[i]/2)*Length/1.0e5\n",
    "        \n",
    "        \n",
    "    elif eos[i]==2:\n",
    "        r[i]=cs21(mas2[i]/2)*Length/1.0e5\n",
    "        \n",
    "    elif eos[i]==3:\n",
    "        r[i]=cs31(mas2[i]/2)*Length/1.0e5\n",
    "        \n",
    "    elif eos[i]==4:\n",
    "        r[i]=cs41(mas2[i]/2)*Length/1.0e5\n",
    "        \n",
    "    elif eos[i]==5:\n",
    "        r[i]=cs51(mas2[i]/2)*Length/1.0e5\n",
    "        \n",
    "    elif eos[i]==6:\n",
    "        r[i]=cs61(mas2[i]/2)*Length/1.0e5\n",
    "        \n",
    "    elif eos[i]==7:\n",
    "        r[i]=cs71(mas2[i]/2)*Length/1.0e5\n",
    "        \n",
    "    elif eos[i]==8:\n",
    "        r[i]=cs81(mas2[i]/2)*Length/1.0e5\n",
    "        \n",
    "    "
   ]
  },
  {
   "cell_type": "markdown",
   "metadata": {},
   "source": [
    "Plot EOS and place each binary for $q=1$"
   ]
  },
  {
   "cell_type": "code",
   "execution_count": 8,
   "metadata": {},
   "outputs": [
    {
     "data": {
      "image/png": "[encoded data removed]",
      "text/plain": [
       "<Figure size 432x288 with 1 Axes>"
      ]
     },
     "metadata": {
      "needs_background": "light"
     },
     "output_type": "display_data"
    }
   ],
   "source": [
    "plt.plot(m_r1[1]*Length/1.0e5,m_r1[0],color='black')\n",
    "plt.plot(m_r2[1]*Length/1.0e5,m_r2[0],color='black')\n",
    "plt.plot(m_r3[1]*Length/1.0e5,m_r3[0],color='black')\n",
    "plt.plot(m_r4[1]*Length/1.0e5,m_r4[0],color='black')\n",
    "plt.plot(m_r5[1]*Length/1.0e5,m_r5[0],color='black')\n",
    "plt.plot(m_r6[1]*Length/1.0e5,m_r6[0],color='black')\n",
    "plt.plot(m_r7[1]*Length/1.0e5,m_r7[0],color='black')\n",
    "plt.plot(m_r8[1]*Length/1.0e5,m_r8[0],color='black')\n",
    "plt.xlim(11,16)\n",
    "plt.ylim(1,2)\n",
    "for i in index:\n",
    "    plt.scatter(r[i],mas2[i]/2,color='r')\n",
    "    \n",
    "\n",
    "plt.xlabel('Radius (km)')\n",
    "plt.ylabel('Mass (solar masses)')\n",
    "plt.show()"
   ]
  },
  {
   "cell_type": "code",
   "execution_count": 9,
   "metadata": {},
   "outputs": [
    {
     "name": "stdout",
     "output_type": "stream",
     "text": [
      " q    eos   Mass  Radius\n",
      "1.0 | 8.0 | 2.7 | 14.9\n",
      "1.0 | 5.0 | 2.7 | 14.9\n",
      "1.0 | 5.0 | 2.7 | 14.9\n",
      "1.0 | 7.0 | 2.7 | 14.9\n",
      "1.0 | 2.0 | 2.7 | 14.9\n",
      "1.0 | 2.0 | 2.7 | 14.9\n",
      "1.0 | 4.0 | 2.7 | 14.9\n",
      "1.0 | 3.0 | 2.7 | 14.9\n",
      "1.0 | 6.0 | 2.7 | 14.9\n",
      "1.0 | 6.0 | 2.8 | 14.9\n",
      "1.0 | 6.0 | 3.2 | 14.9\n",
      "1.0 | 6.0 | 3.4 | 14.9\n",
      "1.0 | 1.0 | 2.7 | 14.9\n"
     ]
    }
   ],
   "source": [
    "\n",
    "print(' q    eos   Mass  Radius')\n",
    "for i in range(mas2.size):\n",
    "    \n",
    "    if q2[i]==1:\n",
    "        print(q2[i],'|',eos[i],'|','%.1f' %mas2[i],'|','%.1f' %r[j])\n",
    "        "
   ]
  },
  {
   "cell_type": "markdown",
   "metadata": {},
   "source": [
    "Plot EOS and place each binary for all cases"
   ]
  },
  {
   "cell_type": "code",
   "execution_count": 10,
   "metadata": {},
   "outputs": [
    {
     "data": {
      "image/png": "[encoded data removed]",
      "text/plain": [
       "<Figure size 432x288 with 1 Axes>"
      ]
     },
     "metadata": {
      "needs_background": "light"
     },
     "output_type": "display_data"
    }
   ],
   "source": [
    "plt.plot(m_r1[1]*Length/1.0e5,m_r1[0],color='black')\n",
    "plt.plot(m_r2[1]*Length/1.0e5,m_r2[0],color='black')\n",
    "plt.plot(m_r3[1]*Length/1.0e5,m_r3[0],color='black')\n",
    "plt.plot(m_r4[1]*Length/1.0e5,m_r4[0],color='black')\n",
    "plt.plot(m_r5[1]*Length/1.0e5,m_r5[0],color='black')\n",
    "plt.plot(m_r6[1]*Length/1.0e5,m_r6[0],color='black')\n",
    "plt.plot(m_r7[1]*Length/1.0e5,m_r7[0],color='black')\n",
    "plt.plot(m_r8[1]*Length/1.0e5,m_r8[0],color='black')\n",
    "plt.xlim(11,16)\n",
    "plt.ylim(1,2)\n",
    "for i in range(31):\n",
    "    plt.scatter(r[i],mas2[i]/2,color='r')\n",
    "    \n",
    "\n",
    "plt.xlabel('Radius (km)')\n",
    "plt.ylabel('Mass (solar masses)')\n",
    "plt.show()"
   ]
  },
  {
   "cell_type": "code",
   "execution_count": 11,
   "metadata": {},
   "outputs": [
    {
     "name": "stdout",
     "output_type": "stream",
     "text": [
      " q    eos   Mass  Radius\n",
      "1.00 | 8.0 | 2.7 | 15.785\n",
      "1.00 | 5.0 | 2.7 | 12.698\n",
      "1.00 | 5.0 | 2.7 | 12.698\n",
      "1.27 | 5.0 | 2.5 | 12.668\n",
      "1.16 | 5.0 | 2.7 | 12.698\n",
      "1.00 | 7.0 | 2.7 | 11.974\n",
      "1.00 | 2.0 | 2.7 | 13.983\n",
      "1.00 | 2.0 | 2.7 | 13.983\n",
      "1.16 | 2.0 | 2.7 | 13.983\n",
      "1.25 | 2.0 | 2.8 | 13.968\n",
      "1.50 | 2.0 | 2.8 | 13.968\n",
      "1.75 | 2.0 | 2.8 | 13.968\n",
      "1.00 | 4.0 | 2.7 | 12.421\n",
      "1.16 | 3.0 | 2.7 | 14.916\n",
      "1.00 | 3.0 | 2.7 | 14.916\n",
      "1.00 | 6.0 | 2.7 | 14.506\n",
      "1.00 | 6.0 | 2.8 | 14.517\n",
      "1.27 | 6.0 | 2.5 | 14.457\n",
      "1.25 | 6.0 | 2.8 | 14.517\n",
      "1.00 | 6.0 | 3.2 | 14.603\n",
      "1.50 | 6.0 | 2.8 | 14.517\n",
      "1.00 | 6.0 | 3.4 | 14.630\n",
      "1.75 | 6.0 | 2.8 | 14.517\n",
      "1.00 | 1.0 | 2.7 | 11.735\n",
      "1.22 | 1.0 | 2.5 | 11.792\n",
      "1.27 | 1.0 | 2.5 | 11.784\n",
      "1.17 | 1.0 | 2.6 | 11.761\n",
      "1.16 | 1.0 | 2.7 | 11.735\n",
      "1.50 | 1.0 | 2.5 | 11.784\n",
      "1.25 | 1.0 | 2.8 | 11.721\n",
      "1.50 | 1.0 | 2.7 | 11.722\n"
     ]
    }
   ],
   "source": [
    "\n",
    "print(' q    eos   Mass  Radius')\n",
    "for i in range(mas2.size):\n",
    "    print('%.2f' %q2[i],'|',eos[i],'|','%.1f' %mas2[i],'|','%.3f' %r[i])\n",
    "    "
   ]
  },
  {
   "cell_type": "code",
   "execution_count": null,
   "metadata": {},
   "outputs": [],
   "source": []
  }
 ],
 "metadata": {
  "kernelspec": {
   "display_name": "Python 3",
   "language": "python",
   "name": "python3"
  },
  "language_info": {
   "codemirror_mode": {
    "name": "ipython",
    "version": 3
   },
   "file_extension": ".py",
   "mimetype": "text/x-python",
   "name": "python",
   "nbconvert_exporter": "python",
   "pygments_lexer": "ipython3",
   "version": "3.7.6"
  }
 },
 "nbformat": 4,
 "nbformat_minor": 4
}
